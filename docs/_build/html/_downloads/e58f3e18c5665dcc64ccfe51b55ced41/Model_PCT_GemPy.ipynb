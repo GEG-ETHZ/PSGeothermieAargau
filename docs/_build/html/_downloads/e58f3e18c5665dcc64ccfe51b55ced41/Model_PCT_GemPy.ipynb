{
  "cells": [
    {
      "cell_type": "code",
      "execution_count": null,
      "metadata": {
        "collapsed": false
      },
      "outputs": [],
      "source": [
        "%matplotlib inline"
      ]
    },
    {
      "cell_type": "markdown",
      "metadata": {},
      "source": [
        "Create a 3D model of a Permo-Carboniferous Trough (PCT)\n=======================================================\n\nBased on four seismic sections from the NAGRA report [NAGRA NTB\n14-02](https://www.nagra.ch/data/documents/database/dokumente/$default/Default\\%20Folder/Publikationen/NTBs\\%202014\\%20-\\%202015/d_ntb14-02\\%20Dossier\\%20I.pdf)\n\\[1\\], we extracted interface and orientation points of main eras\n(paleozoic, mesozoic, cenozoic) and major graben faults. Data from these\n2D sections are complemented with data from GeoMol 2019, e.g. base of\nthe PCT, thrusts, and normal faults.\n\nThe lithological units comprise the permo-carboniferous filling\n(paleozoic), Mesozoic, Tertiary strata, as well as the crystalline\nbasement rocks. An important decision before building the geological\nmodel, is to define model units. Based on the purpose of the envisaged\nmodel, different units have to be defined. As the final result of this\nwork will be an ensemble of advective heat-transport models, key\nparemeters for defining units are permeability, porosity, thermal\nconductivity of different geological layers. As part of the exploration\nwork of nagra (National Cooperative for the Disposal of Radioactive\nWaste), regional and local hydrogeological models were constructed. The\ntherein defined hydrostratigraphy provides the basis for defining the\nmodel units of this geological model. The regional hydrogeologic model\nis presented in the report [NAGRA NAB\n13-23](https://www.nagra.ch/data/documents/database/dokumente/$default/Default\\%20Folder/Publikationen/NABs\\%202004\\%20-\\%202015/e_nab13-023.pdf)\n\\[2\\].\n\nWith the regional model covering an area comprising all potential\nstorage sites defined by nagra, local models were built as well. These\nmodels comprise a more detailed hydrostratigraphy.\n\nThe potential storage site \\\"Jura Ost\\\" is within our model area, thus\nwe also consider the hydrostratigraphy defined in this local\nhydrogeological model presented in the report [NAGRA NAB\n13-26](https://www.nagra.ch/data/documents/database/dokumente/$default/Default\\%20Folder/Publikationen/NABs\\%202004%20-\\%202015/e_nab13-026.pdf)\n\\[3\\].\n\nThe model comprises an area of 45 km x 32 km, in x- and y-direction,\nrespectively. It extends down to a depth of 6 km, with reference sea\nlevel. This notebook demonstrates step-by-step how the model is\ngenerated within the open source modeling software\n[GemPy](https://www.gempy.org/) \\[4\\]. First, we will import libraries\nnecessary to run this notebook:\n"
      ]
    },
    {
      "cell_type": "code",
      "execution_count": null,
      "metadata": {
        "collapsed": false
      },
      "outputs": [],
      "source": [
        "# Importing GemPy\nimport gempy as gp\n\n# Import improved plotting features from GemPy\nfrom gempy.plot import visualization_2d as vv\nfrom gempy.plot import vista\n\n# Importing auxilary libraries\nimport numpy as np\n\nimport matplotlib.pyplot as plt\nimport matplotlib.image as mpimg\nimport matplotlib\nmatplotlib.rcParams['figure.figsize'] = (20.0, 10.0)"
      ]
    },
    {
      "cell_type": "markdown",
      "metadata": {},
      "source": [
        "This example code was generated with Gempy-Version:\n"
      ]
    },
    {
      "cell_type": "code",
      "execution_count": null,
      "metadata": {
        "collapsed": false
      },
      "outputs": [],
      "source": [
        "print(f\"GemPy Version: {gp.__version__}\")"
      ]
    },
    {
      "cell_type": "markdown",
      "metadata": {},
      "source": [
        "Initialize the model\n\n:   \\-\\-\\-\\-\\-\\-\\-\\-\\-\\-\\-\\-\\-\\-\\-\\-\\-\\-\\--For modeling the\n    PermoCarboniferous trough (**PCT**) in GemPy, we need to initialize\n    a GemPy model object. This model object comprises multiple input\n    data, such as interface points and orientations, which we previously\n    stored in a [.csv]{.title-ref} file. Further, we import the\n    topography from a GeoTiff file. Conceptually, we create two models:\n\n. 1. With data of the the base of the PCT known . 2. With additional\ndata where the base of the PCT is inferred\n\n> The distinction of inferred vs. known locations of the PCT is based on\n> GeoMol 2019, an update geological model of the Swiss Molasse Basin and\n> adjacent areas. Known and inferred parts of the PCT in GeoMol can be\n> seen\n> [here](https://viewer.geomol.ch/webgui/gui2.php?viewHash=02171f57ee58a4082d3eb9cdc541c08b).\n>\n> In this notebook, the user can choose whether only the \\\"known\\\" parts\n> of the PCT base will be considered for modeling, or also the the\n> inferred parts.\n"
      ]
    },
    {
      "cell_type": "markdown",
      "metadata": {},
      "source": [
        "string either \\\"known\\\" or \\\"inferred\\\" to switch between model data\n"
      ]
    },
    {
      "cell_type": "code",
      "execution_count": null,
      "metadata": {
        "collapsed": false
      },
      "outputs": [],
      "source": [
        "switch = \"known\" \n\nif switch == 'known':\n    # Import data - NOT INFERRED\n    # Create a model instance\n    geo_model = gp.create_model('PCT_model')\n    \n    # Initialize the model, set dimension and load interface and orientation data\n    gp.init_data(geo_model, [2640000, 2685000., 1240000., 1275000., -6000, 1000.], [50, 50, 50],\n                path_i = '../../../Editorial-Transitional-Heatflow/data/processed/GemPy/00_gempy_inputs/20201005_interfaces_Jurathrust5_cleaned2_w_boreholes_fault_unit.csv',\n                path_o = '../../../Editorial-Transitional-Heatflow/data/processed/GemPy/00_gempy_inputs/20201007_orientations_with_Jurathrust5_no_quat_meso_reduced2.csv');\n    #topo = geo_model.set_topography(source='gdal', filepath='../../data/processed/GemPy/Model_DTM_EPSG2056.tif');\n    geo_model.set_topography(source='gdal', filepath='../../../Editorial-Transitional-Heatflow/data/processed/GemPy/06_DTMs/DTM_200_for_GemPy_Model.tif');\nelif switch == 'inferred':\n    # Import data - INFERRED\n    # Create a model instance\n    geo_model = gp.create_model('PCT_model_inferred')\n    \n    # Initialize the model, set dimension and load interface and orientation data\n    gp.init_data(geo_model, [2640000, 2685000., 1240000., 1275000., -6000, 1000.], [50, 50, 50],\n                path_i = '../../data/processed/GemPy/00_gempy_inputs/20201005_interfaces_Jurathrust5_pct_inferred.csv',\n                path_o = '../../data/processed/GemPy/00_gempy_inputs/20201007_orientations_with_Jurathrust5_no_quat_meso_reduced2_pct_inferred.csv');\n    #topo = geo_model.set_topography(source='gdal', filepath='../../data/processed/GemPy/Model_DTM_EPSG2056.tif');\n    geo_model.set_topography(source='gdal', filepath='../../data/processed/GemPy/06_DTMs/DTM_200_for_GemPy_Model.tif');"
      ]
    },
    {
      "cell_type": "markdown",
      "metadata": {},
      "source": [
        "To be coherent with existing geological models, e.g. geological\ncross-sections by nagra, we adapt the coloring for units according to\n[NTB\n14-02](https://www.nagra.ch/data/documents/database/dokumente/$default/Default\\%20Folder/Publikationen/NTBs\\%202014\\%20-\\%202015/d_ntb14-02\\%20Dossier\\%20I.pdf)\n\\[5\\]. For this, we create a color dictionary linking the units of the\nmodel to hex-color-codes.\n"
      ]
    },
    {
      "cell_type": "code",
      "execution_count": null,
      "metadata": {
        "collapsed": false
      },
      "outputs": [],
      "source": [
        "col_dict = {'basement': '#efad83',\n            'Graben-fill-low': '#07801a',\n           'graben-fill': '#97ca68',\n           'Mittlerer-Muschelkalk': '#f9ee3a',\n           'Oberer-Muschelkalk': '#ffcf59',\n           'Keuper': '#ffe19f',\n           'Opalinuston': '#7f76b4',\n           'Dogger': '#b0ac67',\n           'Effinger-Schichten': '#47c4e2',\n           'Malm': '#92d2ec',\n           'USM': '#fbf379',\n           'OMM': '#fbf379',\n           'BIH-Basement-N': '#015482',\n           'Fault-south': '#4585a8',\n           'Fault_Basement_A': '#851515',\n           'Vorwald_Basement': '#b54343',\n           'Jurathrust5': '#5DA629',\n           'Mandach': '#408f09'}\n\ngeo_model.surfaces.colors.change_colors(col_dict)"
      ]
    },
    {
      "cell_type": "markdown",
      "metadata": {},
      "source": [
        "Visualize the data distribution\n===============================\n\nThe following plot shows the different interface and orientation data\nloaded in the previous cell:\n"
      ]
    },
    {
      "cell_type": "code",
      "execution_count": null,
      "metadata": {
        "collapsed": false
      },
      "outputs": [],
      "source": [
        "gp.plot_2d(geo_model, show_data=True, show_lith=False, show_results=False, direction='z', legend=False)"
      ]
    },
    {
      "cell_type": "markdown",
      "metadata": {},
      "source": [
        "The different colors in the plot represent the different model units.\nCircles represent the interface points, while arrows define the\norientation of the respective surface in space.\n\nGemPy interpolates these input data in space using a universal\nco-kriging approach. Later on, we will set up the interpolator.\n"
      ]
    },
    {
      "cell_type": "markdown",
      "metadata": {},
      "source": [
        "Setting up Cross sections from the Nagra Report\n===============================================\n\nAs stated before, next to GeoMol \\[6\\], we incorporate geological\ninterpretations from four migrated seismic sections, the NAGRA report\n[NTB\n14-02](https://www.nagra.ch/data/documents/database/dokumente/$default/Default\\%20Folder/Publikationen/NTBs\\%202014\\%20-\\%202015/d_ntb14-02\\%20Dossier\\%20I.pdf).\nFor comparing the model results with the original interpretations, we\ndefine three cross sections in the model domain by specifying their\nstart- and end-points and their resolution:\n\nset three sections which go roughly North South:\n"
      ]
    },
    {
      "cell_type": "code",
      "execution_count": null,
      "metadata": {
        "collapsed": false
      },
      "outputs": [],
      "source": [
        "section_dict = {'section4_3':([2670826,1268793],[2676862,1255579],[100,100]),\n                 'section4_4':([2649021,1267107],[2659842,1246715],[100,100]),\n                 'section4_8':([2643284,1259358],[2680261,1268521],[100,100])}\ngeo_model.set_section_grid(section_dict)"
      ]
    },
    {
      "cell_type": "markdown",
      "metadata": {},
      "source": [
        "Display Model Information\n=========================\n\nIn the following, we will go through model construction step-by-step. As\nan overview, we display the different units (here called\n[surfaces]{.title-ref}) included in the model. Note that also faults are\nsurfaces within this model context. Currently, they are not marked as\nfaults, and GemPy would treat them as the base of another geological\nmodel unit.\n\nTo clarify, we model the base of a unit volume. That is, everything\nabove the base surface is the respective unit, until the next base\nsurface is reached. In total, our model comprises 17\n[surfaces]{.title-ref}. Everything beneath is filled with the 18th\nsurface, called [basement]{.title-ref}.\n\n\\#\\#\\# Surfaces The majority of the structural features, i.e. normal-\nand thrust faults, are named following the names in GeoMol. Main\nfeatures of the model is the asymetric graben system, with the major\nnormal faults (`Fault_Basement_A`, `Fault-south`, `BIH-Basement-N`), and\nthe graben fill, which is not present beyond the graben shoulders,\nunless where it is inferred. This, as well as the stop of major normal\nfaults beneath the mesozoic units (the base of `Mittlerer-Muschelkalk`)\nare important considerations for the modeling process.\n"
      ]
    },
    {
      "cell_type": "code",
      "execution_count": null,
      "metadata": {
        "collapsed": false
      },
      "outputs": [],
      "source": [
        "geo_model.surfaces"
      ]
    },
    {
      "cell_type": "markdown",
      "metadata": {},
      "source": [
        "Characteristics\n===============\n\nOne characteristic seen in the table above, is that all surfaces are\nassigned to a `series` called `Default series`. A \\_[series]() in GemPy\nindicates whether units should be interpolated using the same\nparameters. That is, all `surfaces` within the same `series` will be\nsub-parallel. Thus, surfaces have to be grouped into different series,\ndepending on their geometry in space. For instance, sub-parallel layers\nof a sedimentary sequence should be grouped in the same series, while an\nunconformity, or a fault should be assorted to its own series.\n\nIn this model, we group the majority of mesozoic and cenozoic units in\none series, called `Post_graben_series`. Only the mesozoic surface\n`Mittlerer-Muschelkalk` will be assigned its own series, as it forms the\nbasal detachement of the Jura Mountains. Palaeozoic graben sediments are\nalso assigned its own series.\n"
      ]
    },
    {
      "cell_type": "code",
      "execution_count": null,
      "metadata": {
        "collapsed": false
      },
      "outputs": [],
      "source": [
        "# Assign formations to series\ngp.map_series_to_surfaces(geo_model,\n                         {\"Thrust_Mandach\": 'Mandach',\n                          \"Thrust_Jura\": 'Jurathrust5',\n                          #\"Thrust_Jura6\": 'Jurathrust6', #('Jurathrust4', 'Jurathrust5', 'Jurathrust6'),\n                          \"Fault_north_series\": 'Fault_Basement_A',\n                          \"Fault_south_series\": 'Fault-south',\n                          \"Vorwald_series\": 'Vorwald_Basement',\n                          \"BIH_series\": 'BIH-Basement-N',\n                          \"Fault_north_series\": 'Fault_Basement_A',\n                          \"Fault_south_series\": 'Fault-south',\n                         \"Post_graben_series\": ('OMM',\n                                                'USM',\n                                                'Malm',\n                                                'Effinger-Schichten',\n                                                'Dogger', \n                                                'Opalinuston', \n                                                'Keuper',\n                                                'Oberer-Muschelkalk'),\n                          \"Detachement\": 'Mittlerer-Muschelkalk',\n                         \"Graben_series\": ('graben-fill', 'Graben-fill-low')},\n                         remove_unused_series=True)\ngeo_model.surfaces"
      ]
    },
    {
      "cell_type": "markdown",
      "metadata": {},
      "source": [
        "Define Faults\n=============\n\nTo distinguish between lithological units and faults, we have to assign\nwhich series are faults. Faults can be infinite, i.e. have the same\ndisplacement throughout the model space, or they can be finite, meaning\ndisplacement will be less towards the fault edges (which are defined by\nthe extent of interface points used as input).\n"
      ]
    },
    {
      "cell_type": "code",
      "execution_count": null,
      "metadata": {
        "collapsed": false
      },
      "outputs": [],
      "source": [
        "geo_model.set_is_fault(['Thrust_Mandach', 'Thrust_Jura', 'Fault_north_series', \n                        'Fault_south_series', 'Vorwald_series', 'BIH_series'],\n                      change_color=False)\ngeo_model.set_is_finite_fault(series_fault=['BIH_series', 'Vorwald_series'],\n                              toggle=True)"
      ]
    },
    {
      "cell_type": "markdown",
      "metadata": {},
      "source": [
        "Bottom relation\n===============\n\nTo set whether a surface is eroding or not, we can set a series\\'\n[bottom_relation]{.title-ref}. Per default, it is set to\n[Erosion]{.title-ref}, meaning the base of a younger surface (higher up\nin the stratigraphic pile) will cut through older surfaces. Setting the\n[bottom_relation]{.title-ref} to [Onlap]{.title-ref} will cause the\nopposite, i.e. younger surfaces stop on older ones. We set the\n\\_[Graben_series]() to onlap, as most of it is only present in the\ngraben, i.e. hanging wall of the normal faults, but not in the foot\nwall.\n"
      ]
    },
    {
      "cell_type": "code",
      "execution_count": null,
      "metadata": {
        "collapsed": false
      },
      "outputs": [],
      "source": [
        "geo_model.set_bottom_relation(series=['Graben_series'], bottom_relation='Onlap')"
      ]
    },
    {
      "cell_type": "markdown",
      "metadata": {},
      "source": [
        "Define Fault relations\n======================\n\nWith cross-cutting faults, we need to define fault relations, i.e. which\nfault stops at which. This is important, as some normal faults stop at\nothers, e.g. `BIH_Series` stops at `Fault_south_series`. Fault relations\nare set in a matrix, where `True` sets that one fault stops at the\nother. If set to `False` (the default), faults cross-cut each other\nwithout any effects.\n\nFurther, fault relations are used to define whether a fault displaces\nlithological series, or not. Per default, all faults displace the\nlithological series, but not other faults. This can be seen, if we plot\nthe `fault_relations` matrix:\n"
      ]
    },
    {
      "cell_type": "code",
      "execution_count": null,
      "metadata": {
        "collapsed": false
      },
      "outputs": [],
      "source": [
        "geo_model.faults.faults_relations_df"
      ]
    },
    {
      "cell_type": "markdown",
      "metadata": {},
      "source": [
        "We know that faults do not affect all lithological series equally. For\ninstance, thrusts will not affect the paleozoic sediments filling the\ngraben. Just as the mesozoic units are not affected by the normal\nfaults. Thus we set up a fault relation matrix, considering: :: \\*\nthrusts only affect Mesozoic units \\* normal faults only affect\nBasement, Graben_series \\* normal faults stop at thrusts We can update\nthe fault relations by creating a boolean matrix of shape similar to\n`faults_relations_df`, to assign which fault displaces which unit, etc.\nThen we use this boolean matrix to set fault relations using the\n`set_fault_relation()` method.\n"
      ]
    },
    {
      "cell_type": "code",
      "execution_count": null,
      "metadata": {
        "collapsed": false
      },
      "outputs": [],
      "source": [
        "fr = np.array([[False, False, False, False, False, False, True,  False, False, False],\n               [False, False, False, True,  False, False, True,  False, False, False],\n               [False, False, False, False, True,  False,  False, True,  True, True],\n               [False, False, False, False, False, True, False, False,  True, True],\n               [False, False, False, False, False, False, False, True,  True, True],\n               [False, False, False, False, False, False, False, False, True, True],\n               [False, False, False, False, False, False, False, False, False, False],\n               [False, False, False, False, False, False, False, False, False, False],\n               [False, False, False, False, False, False, False, False, False, False],\n               [False, False, False, False, False, False, False, False, False, False]])\ngeo_model.set_fault_relation(fr)"
      ]
    },
    {
      "cell_type": "markdown",
      "metadata": {},
      "source": [
        "Remember when we had a look at the input data and briefly mentioned the\ninterpolator? We now set the interpolator function for the underlying\nco-kriging interpolation using theano:\n"
      ]
    },
    {
      "cell_type": "code",
      "execution_count": null,
      "metadata": {
        "collapsed": false
      },
      "outputs": [],
      "source": [
        "gp.set_interpolator(geo_model,\n                         compile_theano=True,\n                         theano_optimizer='fast_compile',\n                         verbose=[]);"
      ]
    },
    {
      "cell_type": "markdown",
      "metadata": {},
      "source": [
        "Creating the model\n==================\n\nNow that we set the parameters and fault relations, it is time to start\nthe modeling process. In Gempy, this is done using a single function\n`gempy.comput_model` giving the prepared \\_[geo_model]() as input.\n"
      ]
    },
    {
      "cell_type": "code",
      "execution_count": null,
      "metadata": {
        "collapsed": false
      },
      "outputs": [],
      "source": [
        "sol = gp.compute_model(geo_model, compute_mesh=True)"
      ]
    },
    {
      "cell_type": "markdown",
      "metadata": {},
      "source": [
        "For comparing model results with geological interpretations of the\naforementioned seismic sections, we plot the model units on top of the\nseismic profiles. Profiles 4.3 and 4.4 (nomenclature is taken from\n\\[1\\]) strike across the graben axis, while profile 4.8 goes roughly\nalong the graben.\n\nIn the following plot, we model all profiles with the resulting\ngeological grid, in the order from left to right: Profile 4.3, Profile\n4.4, Profile 4.8.\n"
      ]
    },
    {
      "cell_type": "code",
      "execution_count": null,
      "metadata": {
        "collapsed": false
      },
      "outputs": [],
      "source": [
        "gp.plot_2d(geo_model, section_names=list(section_dict), show_block=True, show_boundaries=False, show_data=False,\n          show_topography=True, show_results=True)"
      ]
    },
    {
      "cell_type": "markdown",
      "metadata": {},
      "source": [
        "References\n==========\n\n\\[1\\]: Naef, H., and Madritsch, H.: Tektonische Karte des Nordschweizer\nPermokarbontrogs: Aktualisierung basierend auf 2D-Seismik und\nSchweredaten. Nagra Arbeitsbericht NAB 14-017, (2014). \\[2\\]: Gm\u00fcnder,\nC., Malaguerra, F., Nusch, S., & Traber, D.: Regional Hydrogeo-logical\nModel of Northern Switzerland. Nagra Arbeitsbericht NAB, 13-23, (2014).\n\\[3\\]: Luo, J., Monninkhoff, B., Becker J.K.: Hydrogeological model Jura\nOst. Nagra Arbeitsbericht NAB, 13-26, (2014). \\[4\\]: de la Varga, M.,\nSchaaf, A., and Wellmann, F.: GemPy 1.0: Open-source stochastic\ngeological modeling and inversion. Geoscientific Model Development,\n12(1), (2019), 1. <doi:http://dx.doi.org/10.5194/gmd-12-1-2019>. \\[5\\]:\nGautschi, A., & Zuidema, P. (ed): Nagra technical report 14-02,\ngeological basics-Dossier I-Introduction and summary; SGT Etappe 2:\nVorschlag weiter zu untersuchender geologischer Standortgebiete mit\nzugeh\u00f6rigen Standortarealen f\u00fcr die Oberfl\u00e4chenanlage\\--Geologische\nGrundlagen\\--Dossier I\\--Einleitung und Zusammenfassung, (2014). \\[6\\]:\nGeoMol Team (2015): GeoMol -- Assessing subsurface potentials of the\nAlpine Foreland Basins for sustainable planning and use of natural\nresources -- Project Report, 188 pp. (Augsburg, LfU).\n"
      ]
    }
  ],
  "metadata": {
    "kernelspec": {
      "display_name": "Python 3",
      "language": "python",
      "name": "python3"
    },
    "language_info": {
      "codemirror_mode": {
        "name": "ipython",
        "version": 3
      },
      "file_extension": ".py",
      "mimetype": "text/x-python",
      "name": "python",
      "nbconvert_exporter": "python",
      "pygments_lexer": "ipython3",
      "version": "3.7.8"
    }
  },
  "nbformat": 4,
  "nbformat_minor": 0
}