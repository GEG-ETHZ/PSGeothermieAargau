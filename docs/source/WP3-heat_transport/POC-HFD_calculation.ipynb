{
  "cells": [
    {
      "cell_type": "code",
      "execution_count": null,
      "metadata": {
        "collapsed": false
      },
      "outputs": [],
      "source": [
        "%matplotlib inline"
      ]
    },
    {
      "cell_type": "markdown",
      "metadata": {},
      "source": [
        "\n# Analysis of SHEMAT-Suite models\n \nThe created geological models with gempy were exported as SHEMAT-Suite input files. `SHEMAT-Suite <https://git.rwth-aachen.de/SHEMAT-Suite/SHEMAT-Suite-open>`_ [1] is a code for \nsolving coupled heat transport in porous media. It is written in fortran and uses a finite differences scheme in a hexahedral grid.\nIn this example, we will load a heat transport simulation from the base POC model we created in \"Geological model creation and gravity simulation\". We will demonstrate methods contained \nin OpenWF for loading the result file, displaying the parameters it contains and how to visualize these parameters. Finally, we will calculate the conductive heat flow and plot it.\n"
      ]
    },
    {
      "cell_type": "code",
      "execution_count": null,
      "metadata": {
        "collapsed": false
      },
      "outputs": [],
      "source": [
        "# import some libraries\nimport numpy as np\nimport sys\nsys.path.append('../../')\nimport OpenWF.postprocessing as pp\nimport matplotlib.pyplot as plt\n\nimport seaborn as sns\nsns.set_style('ticks')\nsns.set_context('talk')"
      ]
    },
    {
      "cell_type": "markdown",
      "metadata": {},
      "source": [
        "Simulation results from SHEMAT-Suite can be written in different file formats, such as VTK (Visualization Toolkit) HDF5 (Hierarchical Data Format), or PLT (TecPlot). In addition, \noptional outputs, such as ASCII-Files with comparison of simulated values to measured ones can be provided. Further, a status log of the simulation and other meta-files. \nA full coverage of possible output files is provided in the SHEMAT-Suite wiki ( https://git.rwth-aachen.de/SHEMAT-Suite/SHEMAT-Suite-open/-/wikis/home). \nIn this tutorial, we will work with HDF5 files and VTK files. The majority of methods in OpenWF are tailored towards HDF5 files, which are smaller than their VTK relatives.\n\nHowever, there exists a powerful visualization code for python which builds upon vtk, called pyvista. We will briefly showcase its capabilities at the end of this tutorial.\n\n"
      ]
    },
    {
      "cell_type": "code",
      "execution_count": null,
      "metadata": {
        "collapsed": false
      },
      "outputs": [],
      "source": [
        "# ## Load HDF5 file\n# From the base POC model, we created a SHEMAT-Suite input file. This was then executed with the compiled SHEMAT-Suite code. As basic information: we look at conductive heat transport, \n# i.e. no fluid flow, and heat transport is described by Fourier's law of heat conduction :math:`q = - \\lambda \\nabla T`. At the base of the model, the heat flow boundary condition is \n# set to \n# 72 mW/m:math:`^2`.\n# \n# OpenWF has a built in method for loading HDF5 files, though reading a file is a one-liner using the library ``h5py``. \n# .. code-block:: python\n#    fid = h5py.File('../../models/SHEMAT-Suite_output/SHEMAT_PCT_base_model_final.h5')\n# \n# The file can be loaded in different states, among others for 'r' for read, 'a' for append, 'w' for write, etc. The ``read_hdf`` method in \n# OpenWF lets the user also choose the state to load the HDF5 file.\n\n\nmodel_path = '../../models/SHEMAT-Suite_output/SHEMAT_PCT_base_model_temp_final.h5'\nfid = pp.read_hdf_file(model_path, write=False)"
      ]
    },
    {
      "cell_type": "markdown",
      "metadata": {},
      "source": [
        "To check the parameters stored in the HDF5 file, you can query the loaded h5py file for its keys, i.e. the \"labels\" of the data boxes stored in the HDF5 file.\n\n"
      ]
    },
    {
      "cell_type": "code",
      "execution_count": null,
      "metadata": {
        "collapsed": false
      },
      "outputs": [],
      "source": [
        "fid.keys()"
      ]
    },
    {
      "cell_type": "markdown",
      "metadata": {},
      "source": [
        "As some of these acronyms can have no meaning to new users, we implemented a method, specifically for SHEMAT-Suite generated HDF5 files to present information about \nthe stored parameters:\n\n"
      ]
    },
    {
      "cell_type": "code",
      "execution_count": null,
      "metadata": {
        "collapsed": false
      },
      "outputs": [],
      "source": [
        "pp.available_parameters(fid)"
      ]
    },
    {
      "cell_type": "markdown",
      "metadata": {},
      "source": [
        "The postprocessing in OpenWF has methods for quickly displaying the parameters in each of the model dimensions in a 2D slice. For instance, we will look at a profile through the model \nparallel to the y direction, thus showing a crosssection of the model. In lines, it shows the interfaces between different geological units, and the specified parameter as a colored \ncontour field. \n\n"
      ]
    },
    {
      "cell_type": "code",
      "execution_count": null,
      "metadata": {
        "collapsed": false
      },
      "outputs": [],
      "source": [
        "# plot slice temperature\nfig = plt.figure(figsize=[15,7])\npp.plot_slice(model_path, parameter='temp', direction='y', cell_number=25, model_depth=6500.)\n\n# plot slice fluid density\nfig = plt.figure(figsize=[15,7])\npp.plot_slice(model_path, parameter='rhof', direction='y', cell_number=25, model_depth=6500)"
      ]
    },
    {
      "cell_type": "markdown",
      "metadata": {},
      "source": [
        "## Heat flow estimation\nSHEMAT-Suite does not provide the heat flow for HDF5 files. It does, however, store it in the vtk output. To also have the heat flow for HDF5 files, we provide a method for calculating \nit. In the future, it may be directly written in HDF5 files by SHEMAT-Suite. The method calculates the conductive heat flow in all model dimensions per default. \nThe user can specify, if only one direction should be yielded by the method.\n\n"
      ]
    },
    {
      "cell_type": "code",
      "execution_count": null,
      "metadata": {
        "collapsed": false
      },
      "outputs": [],
      "source": [
        "qx, qy, qz = pp.calc_cond_hf(fid)"
      ]
    },
    {
      "cell_type": "markdown",
      "metadata": {},
      "source": [
        "Maybe here is a good point to talk about the dimensions and according directions in the HDF5 file. We see above, that qz has three dimensions, one with 60 entries, one with 50 entries, \nand one with 100 entries. These is also the cell discretization in z, y, and x direction. That is, in an HDF5 file from SHEMAT-Suite, we have the dimensions [z,y,x], so here qz[z,y,x]. \n\nThe three variables now contain the heat flow in x, y, z direction for each cell in the model. Let's have a look at a horizontal slice through the model center and the heat flow in \nz-direction. Remembering the notation for directions, and seeing that in z-direction, we have 60 cells, the horizontal slice would reflect ``qz[29,:,:]``, i.e. all entries in x- and \ny-direction at index 29 of the z-direction. In the HDF5-file, we further count from the bottom, so ``qz[0,:,:]`` is the deepest slice, ``qz[-1,:,:]`` the shallowest.\n\n"
      ]
    },
    {
      "cell_type": "code",
      "execution_count": null,
      "metadata": {
        "collapsed": false
      },
      "outputs": [],
      "source": [
        "# Get the model dimensions in x, y, z\nx = fid['x'][0,0,:]\ny = fid['y'][0,:,0]\nz = fid['z'][:,0,0]\n\ncell_number = 29\nui_cs = fid['uindex'][cell_number,:,:]\n\nfig = plt.figure(figsize=[15,7])\ncs = plt.contourf(x,y,qz[cell_number]*1000, 20, cmap='viridis')\nplt.contour(x,y,ui_cs, colors='k')\nplt.colorbar(cs, label='HF mW/m$^2$')\nplt.xlabel('X [m]')\nplt.ylabel('Y [m]');"
      ]
    },
    {
      "cell_type": "markdown",
      "metadata": {},
      "source": [
        "Next to calculating the heatflow in each cell, we implemented a method to calculate it over a specified interval, e.g. over the depth interval of -4000 m to -3000 m, \nso providing the average heat flow over this depth interval.\n\n"
      ]
    },
    {
      "cell_type": "code",
      "execution_count": null,
      "metadata": {
        "collapsed": false
      },
      "outputs": [],
      "source": [
        "deeper = -4000\nshallower = -3000\nmid_depth = deeper - (deeper - shallower) / 2\n\nqz_int = pp.calc_cond_hf_over_interval(fid, depth_interval=[deeper,shallower], model_depth=6500)\n\nfig = plt.figure(figsize=[15,7])\ncs = plt.contourf(x,y,qz_int*1000, 20, cmap='viridis')\nplt.contour(x,y,ui_cs, colors='k')\nplt.colorbar(cs, label='HF mW/m$^2$')\nplt.title(f\"Heat flow, at {mid_depth} m a.s.l. depth, over a {np.abs(deeper-shallower)} m depth interval\")\nplt.xlabel('X [m]')\nplt.ylabel('Y [m]');"
      ]
    },
    {
      "cell_type": "markdown",
      "metadata": {},
      "source": [
        "## VTK and pyvista\n`Pyvista <https://docs.pyvista.org/>`_ [2] is a python library for working with 3D meshes and providing an interface for VTK files.\n\n"
      ]
    },
    {
      "cell_type": "code",
      "execution_count": null,
      "metadata": {
        "collapsed": false
      },
      "outputs": [],
      "source": [
        "import pyvista as pv\npv.set_plot_theme(\"document\")\n\nsimulation = pv.read('../../models/SHEMAT-Suite_output/SHEMAT_PCT_base_model_temp_final.vtk')"
      ]
    },
    {
      "cell_type": "markdown",
      "metadata": {},
      "source": [
        "This line loads the VTK file. For information about its content, we can simply call the variable:\n\n"
      ]
    },
    {
      "cell_type": "code",
      "execution_count": null,
      "metadata": {
        "collapsed": false
      },
      "outputs": [],
      "source": [
        "simulation\n\nsimulation.plot();"
      ]
    },
    {
      "cell_type": "markdown",
      "metadata": {},
      "source": [
        "The vtk file has a couple of scalar values stored (seen in the table with data arrays). We can switch the active scalars to temperature for example using:\n\n"
      ]
    },
    {
      "cell_type": "code",
      "execution_count": null,
      "metadata": {
        "collapsed": false
      },
      "outputs": [],
      "source": [
        "simulation.set_active_scalars('temp')\n\nsimulation.plot();"
      ]
    }
  ],
  "metadata": {
    "kernelspec": {
      "display_name": "Python 3",
      "language": "python",
      "name": "python3"
    },
    "language_info": {
      "codemirror_mode": {
        "name": "ipython",
        "version": 3
      },
      "file_extension": ".py",
      "mimetype": "text/x-python",
      "name": "python",
      "nbconvert_exporter": "python",
      "pygments_lexer": "ipython3",
      "version": "3.8.8"
    }
  },
  "nbformat": 4,
  "nbformat_minor": 0
}