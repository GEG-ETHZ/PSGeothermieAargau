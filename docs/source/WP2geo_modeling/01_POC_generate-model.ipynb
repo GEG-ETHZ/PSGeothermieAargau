{
  "cells": [
    {
      "cell_type": "code",
      "execution_count": null,
      "metadata": {
        "collapsed": false
      },
      "outputs": [],
      "source": [
        "%matplotlib inline"
      ]
    },
    {
      "cell_type": "markdown",
      "metadata": {},
      "source": [
        "\n# Generating a geological model and simulate its gravity\n\nThe following tutorial will step-by-step lead you through an example workflow on creating a GemPy model from interface and orientation data, assigning densities to geological units,\nand model their gravity response.\n"
      ]
    },
    {
      "cell_type": "markdown",
      "metadata": {},
      "source": [
        "# Create the base Proof-of-Concept Model\n\nBased on a seismic section from the NAGRA report [NAGRA NAB 14-17](https://www.nagra.ch/data/documents/database/dokumente/$default/Default%20Folder/Publikationen/NABs%202004%20-%202015/d_nab14-017.pdf), we extracted interface and orientation points for lithological units and faults.  \n\nThe lithological units comprise the permo-carboniferous filling (divided in three stages based on the report results), Mesozoic, Tertiary, and Quaternary strata, as well as the Palaeozoic crystalline basement rocks.\n\n"
      ]
    },
    {
      "cell_type": "code",
      "execution_count": null,
      "metadata": {
        "collapsed": false
      },
      "outputs": [],
      "source": [
        "import warnings\nwarnings.filterwarnings(\"ignore\")\n\n# Importing GemPy\nimport gempy as gp\nfrom gempy.plot import visualization_2d as vv\n\n# Importing auxilary libraries\nimport numpy as np\nimport pandas as pd\nimport matplotlib.pyplot as plt\nplt.style.use('seaborn-talk')\n\n# What GemPy version was used\nprint(f\"Code run with GemPy version: {gp.__version__}\")"
      ]
    },
    {
      "cell_type": "markdown",
      "metadata": {},
      "source": [
        "## Initialize the model\nWe start with modelling the trough by generating a gempy model object. This will use interface points and orientations, which we previously stored in a `.csv` file.\n\n"
      ]
    },
    {
      "cell_type": "code",
      "execution_count": null,
      "metadata": {
        "collapsed": false
      },
      "outputs": [],
      "source": [
        "# Fix random number seed to get the same topography\nnp.random.seed(333)\n# Import data\n# Create a model instance\ngeo_model = gp.create_model('POC_model')\n\n# Initialize the model, set dimension and load interface and orientation data\ngp.init_data(geo_model, [0, 28000., 0, 14000., -6500, 1000.], [100, 50, 60],\n            path_i = '../../data/GemPy/line82_interfaces_wo_middle_MC.csv',\n            path_o = '../../data/GemPy/line82_foliations_wo_middle_MC.csv')\ngeo_model.set_topography(source='random', d_z=np.array([300,1000]))\n\ngp.plot_2d(geo_model, show_data=True, show_topography=True)"
      ]
    },
    {
      "cell_type": "markdown",
      "metadata": {},
      "source": [
        "## Adding information to the model\nOnly loading interface and orientation points is not enough. First, let's assign colors to the different model units, e.g. for coloring faults similarly.\n\n"
      ]
    },
    {
      "cell_type": "code",
      "execution_count": null,
      "metadata": {
        "collapsed": false
      },
      "outputs": [],
      "source": [
        "col_dict = {'basement': '#c7848f',\n           'Lower-filling': '#a5d490', \n           'Upper-filling': '#cfc199',\n           'Unconformity': '#725c9a',\n           'Orange': '#ff792b',\n           'Pink': '#e588f3',\n           'Tertiary': '#dbdbac',\n           'Fault2': '#015482',\n           'Fault5': '#015482',\n           'Fault6': '#015482',\n           'Thrust1_south': '#5DA629',\n           'Thrust2_south': '#5DA629'}\ngeo_model.surfaces.colors.change_colors(col_dict)\ngeo_model.surfaces"
      ]
    },
    {
      "cell_type": "markdown",
      "metadata": {},
      "source": [
        "## Model Characteristics  \nMain features of the model is the asymetric graben system, with the major fault (denoted with **A**), and the graben fill, which is not present beyond the graben shoulders. This, as well as the stop of major faults beneath the mesozoic units (blue units) are important considerations for the modelling process.  \nThese could be caught, for instance, in likelihood functions if we model the PCT as a Bayesian inference problem.\n\n"
      ]
    },
    {
      "cell_type": "code",
      "execution_count": null,
      "metadata": {
        "collapsed": false
      },
      "outputs": [],
      "source": [
        "# Assign formations to series\ngp.map_series_to_surfaces(geo_model,\n                         {\"Thrust1_series\": 'Thrust1_south',\n                          \"Thrust2_series\": 'Thrust2_south',\n                          \"Fault2_series\": 'Fault2',\n                          \"Fault5_series\": 'Fault5',\n                          \"Fault6_series\": 'Fault6',\n                         \"Post_tectonic_series\": ('Tertiary', 'Pink', 'Orange'),\n                          \"Detachement\": 'Unconformity',\n                         \"Syn_tectonic_series2\": 'Upper-filling',\n                         #\"Syn_tectonic_series1\": 'Middle-filling',\n                         \"Pre_tectonic_series\": 'Lower-filling'},\n                         remove_unused_series=True)\ngeo_model.surfaces"
      ]
    },
    {
      "cell_type": "markdown",
      "metadata": {},
      "source": [
        "After assigning units to stacks or series, we have so define which of those series is a fault. Here, we see that it is usually important to assign each fault its own series, as faults may have very different \nscalar fields (in which the fault surfaces are interpolated).\n\n"
      ]
    },
    {
      "cell_type": "code",
      "execution_count": null,
      "metadata": {
        "collapsed": false
      },
      "outputs": [],
      "source": [
        "geo_model.set_is_fault(['Thrust1_series', 'Thrust2_series',\n                        'Fault2_series', 'Fault5_series', 'Fault6_series'],\n                      change_color=False)"
      ]
    },
    {
      "cell_type": "markdown",
      "metadata": {},
      "source": [
        "Further we have to set bottom relations, if a series is **not** erosive. For instance, the Units in the Graben are most likely onlapping units.\n\n"
      ]
    },
    {
      "cell_type": "code",
      "execution_count": null,
      "metadata": {
        "collapsed": false
      },
      "outputs": [],
      "source": [
        "geo_model.set_bottom_relation(series=['Post_tectonic_series', \n                                      'Pre_tectonic_series',\n                                      'Syn_tectonic_series2'], bottom_relation='Onlap') #,"
      ]
    },
    {
      "cell_type": "markdown",
      "metadata": {},
      "source": [
        "The following table shows the fault relations, i.e. which unit (or fault) is affected by a fault. If the respective entry in the table is set to `True`, the fault on the left displaces the unit (or fault) in a respective\ncolumn.\n\n"
      ]
    },
    {
      "cell_type": "code",
      "execution_count": null,
      "metadata": {
        "collapsed": false
      },
      "outputs": [],
      "source": [
        "geo_model.faults.faults_relations_df"
      ]
    },
    {
      "cell_type": "markdown",
      "metadata": {},
      "source": [
        "Per default, faults displace all lithological units. However, the normal faults of the graben do not affect the younger units, so we define a boolean matrix, which  sets the fault relations correctly.\n\n"
      ]
    },
    {
      "cell_type": "code",
      "execution_count": null,
      "metadata": {
        "collapsed": false
      },
      "outputs": [],
      "source": [
        "fr = np.array([[False, True, False, False, False, True, False, False,   False, False],\n               [False, False, False, False, False, True, False, False,  False, False],\n               [False, False, False, False, False, False, True, True,  True, True],\n               [False, False, False, False, False, False, True, True,  True, True],\n               [False, False, False, False, False, False, True, True,  True, True],\n               [False, False, False, False, False, False, False, False, False, False],\n               [False, False, False, False, False, False, False, False, False, False],\n               [False, False, False, False, False, False, False, False, False, False],\n               [False, False, False, False, False, False, False, False, False, False],\n               [False, False, False, False, False, False, False, False, False, False]])\ngeo_model.set_fault_relation(fr)"
      ]
    },
    {
      "cell_type": "markdown",
      "metadata": {},
      "source": [
        "## Creating the model\nNow that we set the parameters and fault relations, it is time to start the modeling process:\n\n"
      ]
    },
    {
      "cell_type": "code",
      "execution_count": null,
      "metadata": {
        "collapsed": false
      },
      "outputs": [],
      "source": [
        "# decrease the kriging range\ngeo_model.modify_kriging_parameters('range', 20000.)\ngeo_model.modify_kriging_parameters('$C_o$', 2e5)\n\n# Set the interpolator function\ngp.set_interpolator(geo_model,\n                         compile_theano=True,\n                         theano_optimizer='fast_compile',\n                         verbose=[],\n                         update_kriging=False)\n\n# Compute the model\nsol = gp.compute_model(geo_model)"
      ]
    },
    {
      "cell_type": "markdown",
      "metadata": {},
      "source": [
        "Saving the model is straight forward. It can optionally also be compressed in a zip archive, or be _pickled_. An example on how to save a model is shown next. There, we give the saving path and the model name.\n\n"
      ]
    },
    {
      "cell_type": "code",
      "execution_count": null,
      "metadata": {
        "collapsed": false
      },
      "outputs": [],
      "source": [
        "geo_model.save_model(name='POC_PCT_model', \n                     path='../../models/2021-06-04_POC_base_model')"
      ]
    },
    {
      "cell_type": "markdown",
      "metadata": {},
      "source": [
        "Let's have a look how the created model looks like:\n\n"
      ]
    },
    {
      "cell_type": "code",
      "execution_count": null,
      "metadata": {
        "collapsed": false
      },
      "outputs": [],
      "source": [
        "gp.plot_2d(geo_model, cell_number=25, direction='y', show_data=False, show_topography=False,\n          show_lith=True, show_results=True, show_boundaries=True)"
      ]
    },
    {
      "cell_type": "markdown",
      "metadata": {},
      "source": [
        "# Simulate Gravity\nUsing the now generated POC-model, we simulate its gravity at different locations. These locations will be treated as observations later on in the workflow. \nIn a first step, we distribute 15 points randomly across the topography of our model. Those will be the station locations, where we pick up the gravity signal of the POC-model.\n\n"
      ]
    },
    {
      "cell_type": "code",
      "execution_count": null,
      "metadata": {
        "collapsed": false
      },
      "outputs": [],
      "source": [
        "# distribute stations\nimport random\nnp.random.seed(58)\nstation_indices = np.random.randint(0, high=4999, size=15)\nstation_coordinates = geo_model._grid.topography.values[station_indices, :]\n\ncs = plt.scatter(station_coordinates[:,0], station_coordinates[:,1], c=station_coordinates[:,2], cmap='viridis')\nplt.colorbar(cs)"
      ]
    },
    {
      "cell_type": "markdown",
      "metadata": {},
      "source": [
        "Next, we create centered grids around each station. The centered grid here has 10 cells in x- and y-direction, and extends 15 cells down in the z-direction.\n\n"
      ]
    },
    {
      "cell_type": "code",
      "execution_count": null,
      "metadata": {
        "collapsed": false
      },
      "outputs": [],
      "source": [
        "from gempy.assets.geophysics import GravityPreprocessing\ngeo_model.set_centered_grid(station_coordinates,  resolution = [10, 10, 15], radius=6000)\ng = GravityPreprocessing(geo_model.grid.centered_grid)\ntz = g.set_tz_kernel()"
      ]
    },
    {
      "cell_type": "markdown",
      "metadata": {},
      "source": [
        "The gravity response cannot be modeled without assigning a density to the model units. Theoretically, one could also assign different petrophyiscal properties here. They will be \nadded as separate columns to the surfaces dataframe.\n\n"
      ]
    },
    {
      "cell_type": "code",
      "execution_count": null,
      "metadata": {
        "collapsed": false
      },
      "outputs": [],
      "source": [
        "densities = [0, 0, 0, 0, 0, 2.466, 2.61, 2.53, \n             2.61, 2.47, 2.55, 2.67]\ngeo_model.add_surface_values(densities, ['density'])"
      ]
    },
    {
      "cell_type": "markdown",
      "metadata": {},
      "source": [
        "Modeling the lithology on all grids (regular, topography, centered) can get time consuming. So here, we only activate the centered grid to catch the gravity response.\n\n"
      ]
    },
    {
      "cell_type": "code",
      "execution_count": null,
      "metadata": {
        "collapsed": false
      },
      "outputs": [],
      "source": [
        "geo_model.set_active_grid('centered', reset=True)\n\ngp.set_interpolator(geo_model, output=['gravity'], theano_optimizer='fast_run', update_kriging=False)\nsol = gp.compute_model(geo_model)\ngrav = sol.fw_gravity\n\n\n# In[24]:\n\n\ngrav1 = grav.reshape(len(grav),1)\nstation_forw_grav = np.append(station_coordinates, grav1, axis=1)"
      ]
    },
    {
      "cell_type": "markdown",
      "metadata": {},
      "source": [
        "and finally, we save the modeled gravity to be used as observations later on:\n\n"
      ]
    },
    {
      "cell_type": "code",
      "execution_count": null,
      "metadata": {
        "collapsed": false
      },
      "outputs": [],
      "source": [
        "np.savetxt('../../data/Data_for_MC/20210322_forw_grav_seed58.csv', station_forw_grav, fmt='%.2f, %.2f, %.2f, %.5f', header=\"X, Y, Z, grav\")"
      ]
    }
  ],
  "metadata": {
    "kernelspec": {
      "display_name": "Python 3",
      "language": "python",
      "name": "python3"
    },
    "language_info": {
      "codemirror_mode": {
        "name": "ipython",
        "version": 3
      },
      "file_extension": ".py",
      "mimetype": "text/x-python",
      "name": "python",
      "nbconvert_exporter": "python",
      "pygments_lexer": "ipython3",
      "version": "3.8.8"
    }
  },
  "nbformat": 4,
  "nbformat_minor": 0
}