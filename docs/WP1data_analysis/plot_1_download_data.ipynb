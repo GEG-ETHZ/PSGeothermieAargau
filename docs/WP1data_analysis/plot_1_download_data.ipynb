{
  "cells": [
    {
      "cell_type": "code",
      "execution_count": null,
      "metadata": {
        "collapsed": false
      },
      "outputs": [],
      "source": [
        "%matplotlib inline"
      ]
    },
    {
      "cell_type": "markdown",
      "metadata": {},
      "source": [
        "Data download example\n=====================\n\nThis example shows one way of dealing with large data files required for\nyour examples.\n\nThe `download_data` function first checks if the data has already been\ndownloaded, looking in either the data directory saved the configuration\nfile (by default `~/.sg_template`) or the default data directory. If the\ndata has not already been downloaded, it downloads the data from the url\nand saves the data directory to the configuration file. This allows you\nto use the data again in a different example without downloading it\nagain.\n\nNote that examples in the gallery are ordered according to their\nfilenames, thus the number after \\'plot\\_\\' dictates the order the\nexample appears in the gallery.\n"
      ]
    },
    {
      "cell_type": "code",
      "execution_count": null,
      "metadata": {
        "collapsed": false
      },
      "outputs": [],
      "source": [
        "import pandas as pd\nimport SampleModule.data_download as dd\n\n\ndata_file = dd.download_data(\n    url='http://archive.ics.uci.edu/ml/machine-learning-databases/iris/iris.data',\\\n    data_file_name='iris.csv',\n    data_key='data_dir')\n\niris = pd.read_csv(data_file, header=None)\niris.head()"
      ]
    }
  ],
  "metadata": {
    "kernelspec": {
      "display_name": "Python 3",
      "language": "python",
      "name": "python3"
    },
    "language_info": {
      "codemirror_mode": {
        "name": "ipython",
        "version": 3
      },
      "file_extension": ".py",
      "mimetype": "text/x-python",
      "name": "python",
      "nbconvert_exporter": "python",
      "pygments_lexer": "ipython3",
      "version": "3.7.8"
    }
  },
  "nbformat": 4,
  "nbformat_minor": 0
}