{
  "cells": [
    {
      "cell_type": "code",
      "execution_count": null,
      "metadata": {
        "collapsed": false
      },
      "outputs": [],
      "source": [
        "%matplotlib inline"
      ]
    },
    {
      "cell_type": "markdown",
      "metadata": {},
      "source": [
        "Export a GemPy Model\n====================\n\nThis section briefly describes how to export a GemPy model to get a\nworking input file for MOOSE. This example is mainly taken from the\ntutorial [gempy export\nMOOSE](https://github.com/cgre-aachen/gempy/blob/master/examples/integrations/gempy_export_MOOSE.py)\nfrom the official GemPy repository. It will guide you through the\nprocess of exporting a geological model generated in\n[GemPy](https://www.gempy.org/) (Tutorial Chapter 1-1 therein) so it is\nusable as a Mesh \\# in the [MOOSE](https://mooseframework.org/)\nframework.\n"
      ]
    },
    {
      "cell_type": "markdown",
      "metadata": {},
      "source": [
        "Creating a geological model\n===========================\n\nThe procedure of generating a geological model is presented in detail in\n[Chapter\n1-1](https://nbviewer.jupyter.org/github/cgre-aachen/gempy/blob/master/notebooks/tutorials/ch1-1_Basics.ipynb)\nof the GemPy tutorials, so it will only be briefly presented here:\n"
      ]
    },
    {
      "cell_type": "code",
      "execution_count": null,
      "metadata": {
        "collapsed": false
      },
      "outputs": [],
      "source": [
        "import gempy as gp\nimport matplotlib.pyplot as plt\n\ngeo_model = gp.create_model('tutorial_moose_exp')\n\ngp.init_data(geo_model, [0,2000., 0,2000., 0,2000.], [50, 50, 80],\n            path_o = \"../../data/GemPy/simple_fault_model_orientations.csv\",\n            path_i = \"../../data/GemPy/simple_fault_model_points.csv\",\n            default_values = True)"
      ]
    },
    {
      "cell_type": "markdown",
      "metadata": {},
      "source": [
        "present the units and series\n"
      ]
    },
    {
      "cell_type": "code",
      "execution_count": null,
      "metadata": {
        "collapsed": false
      },
      "outputs": [],
      "source": [
        "geo_model.surfaces"
      ]
    },
    {
      "cell_type": "markdown",
      "metadata": {},
      "source": [
        "combine units in series and make two series, as the fault needs its own\n"
      ]
    },
    {
      "cell_type": "code",
      "execution_count": null,
      "metadata": {
        "collapsed": false
      },
      "outputs": [],
      "source": [
        "gp.map_series_to_surfaces(geo_model,\n                         {\"Fault_Series\" : 'Main_Fault',\n                          \"Strat_Series\" : ('Sandstone_2', 'Siltstone', 'Shale', 'Sandstone_1', 'basement')},\n                         remove_unused_series=True)\n\n# set the fault series to be fault object\ngeo_model.set_is_fault(['Fault_Series'], change_color=False)"
      ]
    },
    {
      "cell_type": "markdown",
      "metadata": {},
      "source": [
        "check whether series were assigned correctly\n"
      ]
    },
    {
      "cell_type": "code",
      "execution_count": null,
      "metadata": {
        "collapsed": false
      },
      "outputs": [],
      "source": [
        "geo_model.surfaces"
      ]
    },
    {
      "cell_type": "markdown",
      "metadata": {},
      "source": [
        "Model generation\n================\n\nAfter loading in the data, we set it up for interpolation and compute\nthe model.\n"
      ]
    },
    {
      "cell_type": "code",
      "execution_count": null,
      "metadata": {
        "collapsed": false
      },
      "outputs": [],
      "source": [
        "gp.set_interpolator(geo_model,\n                         compile_theano=True,\n                         theano_optimizer='fast_compile',\n                         verbose=[])\n\ngp.compute_model(geo_model, compute_mesh=False)\n\n# sphinx_gallery_thumbnail_number = 1\ngp.plot_2d(geo_model, direction='y', cell_number=45,show_data=False, show_boundaries=False, show_topography=False)"
      ]
    },
    {
      "cell_type": "markdown",
      "metadata": {},
      "source": [
        "Exporting the Model to MOOSE\n============================\n\nThe voxel-model above already is the same as a model discretized in a\nhexahedral grid, so my immediately be used as input in a simulation\ntool, e.g. [MOOSE](https://mooseframework.org/). For this, we need to\naccess to the unit IDs assigned to each voxel in GemPy. The array\ncontaining these IDs is called [lith_block]{.title-ref}.\n"
      ]
    },
    {
      "cell_type": "code",
      "execution_count": null,
      "metadata": {
        "collapsed": false
      },
      "outputs": [],
      "source": [
        "ids = geo_model.solutions.lith_block\nprint(ids)"
      ]
    },
    {
      "cell_type": "markdown",
      "metadata": {},
      "source": [
        "This array has the shape of [(x,)]{.title-ref} and would be immediately\nuseful, if GemPy and the chosen simulation code would \\_[populate]() a\ngrid in the same way. Of course, however, that is not the case. This is\nwhy we have to restructure the [lith_block]{.title-ref} array, so it can\nbe read correctly by MOOSE.\n\nThe model resolution is extracted, so is the model extent:\n"
      ]
    },
    {
      "cell_type": "code",
      "execution_count": null,
      "metadata": {
        "collapsed": false
      },
      "outputs": [],
      "source": [
        "nx, ny, nz = geo_model.grid.regular_grid.resolution\n\n# model extent\nxmin, xmax, ymin, ymax, zmin, zmax = geo_model.grid.regular_grid.extent"
      ]
    },
    {
      "cell_type": "markdown",
      "metadata": {},
      "source": [
        "These two parameters are important to, a) restructure\n[lith_block]{.title-ref}, and b) write the input file for MOOSE\ncorrectly. For a), we need to reshape [lith_block]{.title-ref} again to\nits three dimensions and \\_[re-flatten]() it in a \\_[MOOSE-conform]()\nway, i.e. reshape to 3D array and then flattened:\n"
      ]
    },
    {
      "cell_type": "code",
      "execution_count": null,
      "metadata": {
        "collapsed": false
      },
      "outputs": [],
      "source": [
        "units = ids.reshape((nx, ny, nz))\n# flatten MOOSE conform\nunits = units.flatten('F')"
      ]
    },
    {
      "cell_type": "markdown",
      "metadata": {},
      "source": [
        "The importance of [nx, ny, nz]{.title-ref} is apparent from the cell\nabove. But what about [xmin]{.title-ref}, \\..., [zmax]{.title-ref}? A\nMOOSE input-file for mesh generation has the following syntax:\n\n``` {.python}\n[MeshGenerators] \n  [./gmg] \n    type = GeneratedMeshGenerator \n    dim = 3 \n    nx = 50 \n    ny = 50 \n    nz = 80 \n    xmin = 0.0 \n    xmax = 2000.0 \n    yim = 0.0 \n    ymax = 2000.0 \n    zmin = 0.0 \n    zmax = 2000.0 \n    block_id = '1 2 3 4 5 6' \n    block_name = 'Main_Fault Sandstone_2 Siltstone Shale Sandstone_1 basement' \n  [../]\n\n  [./subdomains]\n    type = ElementSubdomainIDGenerator \n    input = gmg \n    subdomain_ids = ' ' # here you paste the transformed lith_block vector \n  [../]\n[]\n\n[Mesh]\n  type = MeshGeneratorMesh \n[]\n```\n\nSo these parameters are required inputs in the\n[\\[MeshGenerators\\]]{.title-ref} object in the MOOSE input file.\n[GemPy]{.title-ref} has a method to directly create such an input file,\nstored in [gempy.utils.export.py]{.title-ref}.\n\nThe following cell shows how to call the method:\n"
      ]
    },
    {
      "cell_type": "code",
      "execution_count": null,
      "metadata": {
        "collapsed": false
      },
      "outputs": [],
      "source": [
        "import gempy.utils.export as export\nexport.export_moose_input(geo_model, path='')"
      ]
    },
    {
      "cell_type": "markdown",
      "metadata": {},
      "source": [
        "This method automatically stores a file\n[geo_model_units_moose_input.i]{.title-ref} at the specified path.\nEither this input file could be extended with parameters to directly run\na simulation, or it is used just for creating a mesh. In the latter\ncase, the next step would be, to run the compiled MOOSE executable witch\nthe optional flag [\\--mesh-only]{.title-ref}.\n\nE.g. with using the [PorousFlow\nmodule](https://mooseframework.inl.gov/modules/porous_flow/):\n\n`` `bash $path_to_moose/moose/modules/porous_flow/porous_flow-opt -i pct_voxel_mesh.i --mesh-only ``\\`\n\nHow to compile MOOSE is described in their\n[documentation](https://mooseframework.inl.gov/getting_started/index.html).\n\nThe now generated mesh with the name\n[geo_model_units_moose_input_in.e]{.title-ref} can be used as input for\nanother MOOSE input file, which contains the main simulation parameters.\nTo call the file with the grid, the following part has to be added in\nthe MOOSE simulation input file:\n\n``` {.python}\n[Mesh]  \n  file = geo_model_units_moose_input_in.e  \n[]  \n```\n\nThe final output of the simulation may also be such an [.e]{.title-ref},\nwhich can, for instance, be opened with\n[paraview](https://www.paraview.org/). A simulated temperature field\n(purely conductive) of the created model would look like this:\n\n![Side by side example of gempy model and MOOSE HT-simulation](../../docs/images/GemPy_model_combined.png){width=\"800px\"}\n"
      ]
    }
  ],
  "metadata": {
    "kernelspec": {
      "display_name": "Python 3",
      "language": "python",
      "name": "python3"
    },
    "language_info": {
      "codemirror_mode": {
        "name": "ipython",
        "version": 3
      },
      "file_extension": ".py",
      "mimetype": "text/x-python",
      "name": "python",
      "nbconvert_exporter": "python",
      "pygments_lexer": "ipython3",
      "version": "3.7.8"
    }
  },
  "nbformat": 4,
  "nbformat_minor": 0
}