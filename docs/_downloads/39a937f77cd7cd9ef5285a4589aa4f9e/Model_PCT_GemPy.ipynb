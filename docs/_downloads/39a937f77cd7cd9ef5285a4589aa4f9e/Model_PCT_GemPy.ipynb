{
  "cells": [
    {
      "cell_type": "code",
      "execution_count": null,
      "metadata": {
        "collapsed": false
      },
      "outputs": [],
      "source": [
        "%matplotlib inline\nfrom pyvista import set_plot_theme\nset_plot_theme('document')"
      ]
    },
    {
      "cell_type": "markdown",
      "metadata": {},
      "source": [
        "\n# Create a 3D model of a Permo-Carboniferous Trough (PCT)\n\nBased on four seismic sections from the NAGRA report \n`NAGRA NTB 14-02 <https://www.nagra.ch/data/documents/database/dokumente/$default/Default\\%20Folder/Publikationen/NTBs\\%202014\\%20-\\%202015/d_ntb14-02\\%20Dossier\\%20I.pdf>`_ [1], \nwe extracted interface and orientation points of main eras (paleozoic, mesozoic, cenozoic) and major graben faults. \nData from these 2D sections are complemented with data from GeoMol 2019, e.g. base of the PCT, thrusts, and normal faults. \n\nThe lithological units comprise the permo-carboniferous filling (paleozoic), Mesozoic, Tertiary strata, as well as the crystalline basement rocks. An important decision before building the geological model,\nis to define model units. Based on the purpose of the envisaged model, different units have to be defined. As the final result of this work will be an ensemble of advective heat-transport models,\nkey paremeters for defining units are permeability, porosity, thermal conductivity of different geological layers. As part of the exploration work of nagra \n(National Cooperative for the Disposal of Radioactive Waste), regional and local hydrogeological models were constructed. The therein defined hydrostratigraphy provides the basis for defining the \nmodel units of this geological model. The regional hydrogeologic model is presented in the report \n`NAGRA NAB 13-23 <https://www.nagra.ch/data/documents/database/dokumente/$default/Default\\%20Folder/Publikationen/NABs\\%202004\\%20-\\%202015/e_nab13-023.pdf>`_ [2]. \n\nWith the regional model covering an area comprising all potential storage sites defined by nagra, local models were built as well. These models comprise a more detailed hydrostratigraphy. \n\nThe potential storage site \"Jura Ost\" is within our model area, thus we also consider the hydrostratigraphy defined in this local hydrogeological model presented in the report \n`NAGRA NAB 13-26 <https://www.nagra.ch/data/documents/database/dokumente/$default/Default\\%20Folder/Publikationen/NABs\\%202004%20-\\%202015/e_nab13-026.pdf>`_ [3].\n\nThe model comprises an area of 45 km x 32 km, in x- and y-direction, respectively. It extends down to a depth of 6 km, with reference sea level. \nThis notebook demonstrates step-by-step how the model is generated within the open source modeling software `GemPy <https://www.gempy.org/>`_ [4].  \nFirst, we will import libraries necessary to run this notebook:\n"
      ]
    },
    {
      "cell_type": "code",
      "execution_count": null,
      "metadata": {
        "collapsed": false
      },
      "outputs": [],
      "source": [
        "# Importing GemPy\nimport gempy as gp\n\n# Import improved plotting features from GemPy\nfrom gempy.plot import visualization_2d as vv\nfrom gempy.plot import vista\n\n# Importing auxilary libraries\nimport numpy as np\n\nimport matplotlib.pyplot as plt\nimport matplotlib.image as mpimg\nimport matplotlib\nmatplotlib.rcParams['figure.figsize'] = (20.0, 10.0)"
      ]
    },
    {
      "cell_type": "markdown",
      "metadata": {},
      "source": [
        "This example code was generated with Gempy-Version:\n\n"
      ]
    },
    {
      "cell_type": "code",
      "execution_count": null,
      "metadata": {
        "collapsed": false
      },
      "outputs": [],
      "source": [
        "print(f\"GemPy Version: {gp.__version__}\")"
      ]
    },
    {
      "cell_type": "markdown",
      "metadata": {},
      "source": [
        "Initialize the model\n --------------------\n For modeling the PermoCarboniferous trough (**PCT**) in GemPy, we need to initialize a GemPy model object. This model object comprises multiple input data, such as interface points and orientations, \n which we previously stored in a `.csv` file. Further, we import the topography from a GeoTiff file.  \n Conceptually, we create two models:  \n\n.  1. With data of the the base of the PCT known  \n.  2. With additional data where the base of the PCT is inferred  \n\n The distinction of inferred vs. known locations of the PCT is based on GeoMol 2019, an update geological model of the Swiss Molasse Basin and adjacent areas. Known and inferred parts of the PCT in \n GeoMol can be seen `here <https://viewer.geomol.ch/webgui/gui2.php?viewHash=02171f57ee58a4082d3eb9cdc541c08b>`_.\n\n In this notebook, the user can choose whether only the \"known\" parts of the PCT base will be considered for modeling, or also the the inferred parts.\n\n"
      ]
    },
    {
      "cell_type": "markdown",
      "metadata": {},
      "source": [
        "string either \"known\" or \"inferred\" to switch between model data\n\n"
      ]
    },
    {
      "cell_type": "code",
      "execution_count": null,
      "metadata": {
        "collapsed": false
      },
      "outputs": [],
      "source": [
        "switch = \"known\" \n\nif switch == 'known':\n    # Import data - NOT INFERRED\n    # Create a model instance\n    geo_model = gp.create_model('PCT_model')\n    \n    # Initialize the model, set dimension and load interface and orientation data\n    gp.init_data(geo_model, [2640000, 2685000., 1240000., 1275000., -6000, 1000.], [50, 50, 50],\n                path_i = '../../../Editorial-Transitional-Heatflow/data/processed/GemPy/00_gempy_inputs/2021-06-02_interfaces_no_fault_horizon_reduced_graben_and_mandach.csv',\n                path_o = '../../../Editorial-Transitional-Heatflow/data/processed/GemPy/00_gempy_inputs/20201007_orientations_with_Jurathrust5_no_quat_meso_reduced2.csv')\n    \n    geo_model.set_topography(source='gdal', filepath='../../../Editorial-Transitional-Heatflow/data/processed/GemPy/06_DTMs/DTM_200_for_GemPy_Model.tif')\nelif switch == 'inferred':\n    # Import data - INFERRED\n    # Create a model instance\n    geo_model = gp.create_model('PCT_model_inferred')\n    \n    # Initialize the model, set dimension and load interface and orientation data\n    gp.init_data(geo_model, [2640000, 2685000., 1240000., 1275000., -6000, 1000.], [50, 50, 50],\n                path_i = '../../data/processed/GemPy/00_gempy_inputs/20201005_interfaces_Jurathrust5_pct_inferred.csv',\n                path_o = '../../data/processed/GemPy/00_gempy_inputs/20201007_orientations_with_Jurathrust5_no_quat_meso_reduced2_pct_inferred.csv')\n    \n    geo_model.set_topography(source='gdal', filepath='../../data/processed/GemPy/06_DTMs/DTM_200_for_GemPy_Model.tif')"
      ]
    },
    {
      "cell_type": "markdown",
      "metadata": {},
      "source": [
        "To be coherent with existing geological models, e.g. geological cross-sections by nagra, we adapt the coloring for units according to \n`NTB 14-02 <https://www.nagra.ch/data/documents/database/dokumente/$default/Default\\%20Folder/Publikationen/NTBs\\%202014\\%20-\\%202015/d_ntb14-02\\%20Dossier\\%20I.pdf>`_ [5]. \nFor this, we create a color dictionary linking the units of the model to hex-color-codes.\n\n"
      ]
    },
    {
      "cell_type": "code",
      "execution_count": null,
      "metadata": {
        "collapsed": false
      },
      "outputs": [],
      "source": [
        "col_dict = {'basement': '#efad83',\n           'graben-fill': '#97ca68',\n           'Mittlerer-Muschelkalk': '#f9ee3a',\n           'Oberer-Muschelkalk': '#ffcf59',\n           'Keuper': '#ffe19f',\n           'Opalinuston': '#7f76b4',\n           'Dogger': '#b0ac67',\n           'Effinger-Schichten': '#47c4e2',\n           'Malm': '#92d2ec',\n           'USM': '#fbf379',\n           'OMM': '#fbf379',\n           'BIH-Basement-N': '#015482',\n           'Fault-south': '#4585a8',\n           'Fault_Basement_A': '#851515',\n           'Vorwald_Basement': '#b54343',\n           'Jurathrust5': '#5DA629',\n           'Mandach': '#408f09'}\n\ngeo_model.surfaces.colors.change_colors(col_dict)"
      ]
    },
    {
      "cell_type": "markdown",
      "metadata": {},
      "source": [
        "## Visualize the data distribution\nThe following plot shows the different interface and orientation data loaded in the previous cell:\n\n"
      ]
    },
    {
      "cell_type": "code",
      "execution_count": null,
      "metadata": {
        "collapsed": false
      },
      "outputs": [],
      "source": [
        "gp.plot_2d(geo_model, show_data=True, show_lith=False, show_results=False, direction='z', legend=False)"
      ]
    },
    {
      "cell_type": "markdown",
      "metadata": {},
      "source": [
        "The different colors in the plot represent the different model units. Circles represent the interface points, while arrows define the orientation of the respective surface in space. \n\nGemPy interpolates these input data in space using a universal co-kriging approach. Later on, we will set up the interpolator.\n\n"
      ]
    },
    {
      "cell_type": "markdown",
      "metadata": {},
      "source": [
        "## Setting up Cross sections from the Nagra Report\n\nAs stated before, next to GeoMol [6], we incorporate geological interpretations from four migrated seismic sections, the NAGRA report \n`NTB 14-02 <https://www.nagra.ch/data/documents/database/dokumente/$default/Default\\%20Folder/Publikationen/NTBs\\%202014\\%20-\\%202015/d_ntb14-02\\%20Dossier\\%20I.pdf>`_. \nFor comparing the model results with the original interpretations, we define three cross sections in the model domain by specifying their start- and end-points and their resolution:\n\nset three sections which go roughly North South:\n\n"
      ]
    },
    {
      "cell_type": "code",
      "execution_count": null,
      "metadata": {
        "collapsed": false
      },
      "outputs": [],
      "source": [
        "section_dict = {'section4_3':([2670826,1268793],[2676862,1255579],[100,100]),\n                 'section4_4':([2649021,1267107],[2659842,1246715],[100,100]),\n                 'section4_8':([2643284,1259358],[2680261,1268521],[100,100])}\ngeo_model.set_section_grid(section_dict)"
      ]
    },
    {
      "cell_type": "markdown",
      "metadata": {},
      "source": [
        "## Display Model Information\n\nIn the following, we will go through model construction step-by-step. As an overview, we display the different units (here called `surfaces`) included in the model. \nNote that also faults are surfaces within this model context. Currently, they are not marked as faults, and GemPy would treat them as the base of another geological model unit. \n\nTo clarify, we model the base of a unit volume. That is, everything above the base surface is the respective unit, until the next base surface is reached. \nIn total, our model comprises 17 `surfaces`. Everything beneath is filled with the 18th surface, called `basement`. \n\n### Surfaces\nThe majority of the structural features, i.e. normal- and thrust faults, are named following the names in GeoMol.\nMain features of the model is the asymetric graben system, with the major normal faults (:code:`Fault_Basement_A`, :code:`Fault-south`, :code:`BIH-Basement-N`), \nand the graben fill, which is not present beyond the graben shoulders, unless where it is inferred. \nThis, as well as the stop of major normal faults beneath the mesozoic units (the base of :code:`Mittlerer-Muschelkalk`) are important considerations for the modeling process. \n\n"
      ]
    },
    {
      "cell_type": "code",
      "execution_count": null,
      "metadata": {
        "collapsed": false
      },
      "outputs": [],
      "source": [
        "geo_model.surfaces"
      ]
    },
    {
      "cell_type": "markdown",
      "metadata": {},
      "source": [
        "## Characteristics  \nOne characteristic seen in the table above, is that all surfaces are assigned to a :code:`series` called :code:`Default series`. \nA _series_ in GemPy indicates whether units should be interpolated using the same parameters. That is, all :code:`surfaces` within the same :code:`series` will be sub-parallel. \nThus, surfaces have to be grouped into different series, depending on their geometry in space. For instance, sub-parallel layers of a sedimentary sequence should be grouped in the same series, \nwhile an unconformity, or a fault should be assorted to its own series. \n\nIn this model, we group the majority of mesozoic and cenozoic units in one series, called :code:`Post_graben_series`. Only the mesozoic surface :code:`Mittlerer-Muschelkalk` will be assigned its own \nseries, as it forms the basal detachement of the Jura Mountains. Palaeozoic graben sediments are also assigned its own series.\n\n"
      ]
    },
    {
      "cell_type": "code",
      "execution_count": null,
      "metadata": {
        "collapsed": false
      },
      "outputs": [],
      "source": [
        "# Assign formations to series\ngp.map_series_to_surfaces(geo_model,\n                         {\"Thrust_Mandach\": 'Mandach',\n                          \"Thrust_Jura\": 'Jurathrust5',\n                          #\"Thrust_Jura6\": 'Jurathrust6', #('Jurathrust4', 'Jurathrust5', 'Jurathrust6'),\n                          \"Fault_north_series\": 'Fault_Basement_A',\n                          \"Fault_south_series\": 'Fault-south',\n                          \"Vorwald_series\": 'Vorwald_Basement',\n                          \"BIH_series\": 'BIH-Basement-N',\n                          \"Fault_north_series\": 'Fault_Basement_A',\n                          \"Fault_south_series\": 'Fault-south',\n                         \"Post_graben_series\": ('OMM',\n                                                'USM',\n                                                'Malm',\n                                                'Effinger-Schichten',\n                                                'Dogger', \n                                                'Opalinuston', \n                                                'Keuper',\n                                                'Oberer-Muschelkalk'),\n                          \"Detachement\": 'Mittlerer-Muschelkalk',\n                         \"Graben_series\": 'graben-fill'},\n                         remove_unused_series=True)\ngeo_model.surfaces"
      ]
    },
    {
      "cell_type": "markdown",
      "metadata": {},
      "source": [
        "## Define Faults\nTo distinguish between lithological units and faults, we have to assign which series are faults. Faults can be infinite, i.e. have the same displacement throughout the model space, or they can be\nfinite, meaning displacement will be less towards the fault edges (which are defined by the extent of interface points used as input).\n\n"
      ]
    },
    {
      "cell_type": "code",
      "execution_count": null,
      "metadata": {
        "collapsed": false
      },
      "outputs": [],
      "source": [
        "geo_model.set_is_fault(['Thrust_Mandach', 'Thrust_Jura', 'Fault_north_series', \n                        'Fault_south_series', 'Vorwald_series', 'BIH_series'],\n                      change_color=False)\ngeo_model.set_is_finite_fault(series_fault=['BIH_series', 'Vorwald_series'],\n                              toggle=True)"
      ]
    },
    {
      "cell_type": "markdown",
      "metadata": {},
      "source": [
        "## Bottom relation \nTo set whether a surface is eroding or not, we can set a series' `bottom_relation`. Per default, it is set to `Erosion`, meaning the base of a younger surface (higher up in the stratigraphic pile) \nwill cut through older surfaces. Setting the `bottom_relation` to `Onlap` will cause the opposite, i.e. younger surfaces stop on older ones.  \nWe set the _Graben_series_ to onlap, as most of it is only present in the graben, i.e. hanging wall of the normal faults, but not in the foot wall.\n\n"
      ]
    },
    {
      "cell_type": "code",
      "execution_count": null,
      "metadata": {
        "collapsed": false
      },
      "outputs": [],
      "source": [
        "geo_model.set_bottom_relation(series=['Graben_series'], bottom_relation='Onlap')"
      ]
    },
    {
      "cell_type": "markdown",
      "metadata": {},
      "source": [
        "## Define Fault relations\nWith cross-cutting faults, we need to define fault relations, i.e. which fault stops at which. This is important, as some normal faults stop at others, e.g. :code:`BIH_Series` stops at \n:code:`Fault_south_series`. Fault relations are set in a matrix, where :code:`True` sets that one fault stops at the other. If set to :code:`False` (the default), faults cross-cut each other \nwithout any effects.\n\nFurther, fault relations are used to define whether a fault displaces lithological series, or not. Per default, all faults displace the lithological series, but not other faults. \nThis can be seen, if we plot the :code:`fault_relations` matrix:\n\n"
      ]
    },
    {
      "cell_type": "code",
      "execution_count": null,
      "metadata": {
        "collapsed": false
      },
      "outputs": [],
      "source": [
        "geo_model.faults.faults_relations_df"
      ]
    },
    {
      "cell_type": "markdown",
      "metadata": {},
      "source": [
        "We know that faults do not affect all lithological series equally. For instance, thrusts will not affect the paleozoic sediments filling the graben. \nJust as the mesozoic units are not affected by the normal faults. Thus we set up a fault relation matrix, considering:  \n\n- thrusts only affect Mesozoic units    \n- normal faults only affect Basement, Graben_series  \n- normal faults stop at thrusts\nWe can update the fault relations by creating a boolean matrix of shape similar to :code:`faults_relations_df`, to assign which fault displaces which unit, etc. Then we use this\nboolean matrix to set fault relations using the :code:`set_fault_relation()` method.\n\n"
      ]
    },
    {
      "cell_type": "code",
      "execution_count": null,
      "metadata": {
        "collapsed": false
      },
      "outputs": [],
      "source": [
        "fr = np.array([[False, False, False, False, False, False, True,  False, False, False],\n               [False, False, False, True,  False, False, True,  False, False, False],\n               [False, False, False, False, True,  False,  False, True,  True, True],\n               [False, False, False, False, False, True, False, False,  True, True],\n               [False, False, False, False, False, False, False, True,  True, True],\n               [False, False, False, False, False, False, False, False, True, True],\n               [False, False, False, False, False, False, False, False, False, False],\n               [False, False, False, False, False, False, False, False, False, False],\n               [False, False, False, False, False, False, False, False, False, False],\n               [False, False, False, False, False, False, False, False, False, False]])\ngeo_model.set_fault_relation(fr)"
      ]
    },
    {
      "cell_type": "markdown",
      "metadata": {},
      "source": [
        "Remember when we had a look at the input data and briefly mentioned the interpolator? We now set the interpolator function for the underlying co-kriging interpolation using theano:\n\n"
      ]
    },
    {
      "cell_type": "code",
      "execution_count": null,
      "metadata": {
        "collapsed": false
      },
      "outputs": [],
      "source": [
        "gp.set_interpolator(geo_model,\n                         compile_theano=True,\n                         theano_optimizer='fast_compile',\n                         verbose=[])"
      ]
    },
    {
      "cell_type": "markdown",
      "metadata": {},
      "source": [
        "## Creating the model\nNow that we set the parameters and fault relations, it is time to start the modeling process. In Gempy, this is done using a single function :code:`gempy.comput_model` giving the prepared _geo_model_ \nas input.\n\n"
      ]
    },
    {
      "cell_type": "code",
      "execution_count": null,
      "metadata": {
        "collapsed": false
      },
      "outputs": [],
      "source": [
        "sol = gp.compute_model(geo_model, compute_mesh=True)"
      ]
    },
    {
      "cell_type": "markdown",
      "metadata": {},
      "source": [
        "For comparing model results with geological interpretations of the aforementioned seismic sections, we plot the model units on top of the seismic profiles. \nProfiles 4.3 and 4.4 (nomenclature is taken from [1]) strike across the graben axis, while profile 4.8 goes roughly along the graben.\n\nIn the following plot, we model all profiles with the resulting geological grid, in the order from left to right: Profile 4.3, Profile 4.4, Profile 4.8.\n\n"
      ]
    },
    {
      "cell_type": "code",
      "execution_count": null,
      "metadata": {
        "collapsed": false
      },
      "outputs": [],
      "source": [
        "gp.plot_2d(geo_model, section_names=list(section_dict), show_block=True, show_boundaries=False, show_data=False,\n          show_topography=True, show_results=True)"
      ]
    },
    {
      "cell_type": "markdown",
      "metadata": {},
      "source": [
        "## References\n[1]: Naef, H., and Madritsch, H.: Tektonische Karte des Nordschweizer Permokarbontrogs: Aktualisierung basierend auf 2D-Seismik und Schweredaten. Nagra Arbeitsbericht NAB 14-017, (2014).  \n[2]: Gm\u00fcnder, C., Malaguerra, F., Nusch, S., & Traber, D.: Regional Hydrogeo-logical Model of Northern Switzerland. Nagra Arbeitsbericht NAB, 13-23, (2014).  \n[3]: Luo, J., Monninkhoff, B., Becker J.K.: Hydrogeological model Jura Ost. Nagra Arbeitsbericht NAB, 13-26, (2014).  \n[4]: de la Varga, M., Schaaf, A., and Wellmann, F.: GemPy 1.0: Open-source stochastic geological modeling and inversion. Geoscientific Model Development, 12(1), (2019), 1. doi:http://dx.doi.org/10.5194/gmd-12-1-2019.  \n[5]: Gautschi, A., & Zuidema, P. (ed): Nagra technical report 14-02, geological basics-Dossier I-Introduction and summary; SGT Etappe 2: Vorschlag weiter zu untersuchender geologischer Standortgebiete mit zugeh\u00f6rigen Standortarealen f\u00fcr die Oberfl\u00e4chenanlage--Geologische Grundlagen--Dossier I--Einleitung und Zusammenfassung, (2014).  \n[6]: GeoMol Team (2015): GeoMol \u2013 Assessing subsurface potentials of the Alpine Foreland Basins for sustainable planning and use of natural resources \u2013 Project Report, 188 pp. (Augsburg, LfU).  \n"
      ]
    }
  ],
  "metadata": {
    "kernelspec": {
      "display_name": "Python 3",
      "language": "python",
      "name": "python3"
    },
    "language_info": {
      "codemirror_mode": {
        "name": "ipython",
        "version": 3
      },
      "file_extension": ".py",
      "mimetype": "text/x-python",
      "name": "python",
      "nbconvert_exporter": "python",
      "pygments_lexer": "ipython3",
      "version": "3.8.8"
    }
  },
  "nbformat": 4,
  "nbformat_minor": 0
}