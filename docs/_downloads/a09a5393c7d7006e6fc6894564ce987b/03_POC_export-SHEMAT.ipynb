{
  "cells": [
    {
      "cell_type": "code",
      "execution_count": null,
      "metadata": {
        "collapsed": false
      },
      "outputs": [],
      "source": [
        "%matplotlib inline\nfrom pyvista import set_plot_theme\nset_plot_theme('document')"
      ]
    },
    {
      "cell_type": "markdown",
      "metadata": {},
      "source": [
        "\n# Create SHEMAT-Suite models\n \n With the MC ensemble of generated geological models stored in the respective lith-blocks, we can use them to create SHEMAT-Suite models for then doing \n forward simulations of Heat- and Mass-transfer.\n"
      ]
    },
    {
      "cell_type": "markdown",
      "metadata": {},
      "source": [
        "Libraries\n\n"
      ]
    },
    {
      "cell_type": "code",
      "execution_count": null,
      "metadata": {
        "collapsed": false
      },
      "outputs": [],
      "source": [
        "import os,sys\nsys.path.append('../../')\nimport OpenWF.shemat_preprocessing as shemsuite\nimport glob\nimport numpy as np\nimport itertools as it\nimport gempy as gp\nimport pandas as pd\nimport matplotlib.pyplot as plt\n\nprint(f\"Run with GemPy version {gp.__version__}\")"
      ]
    },
    {
      "cell_type": "markdown",
      "metadata": {},
      "source": [
        "## load the base model\nFor creating SHEMAT-Suite input files from the Monte Carlo Ensemble we created in `sphx_glr_examples_geo_modeling_02_POC_create-MC-ensemble.py` we load the base POC model, which was created\nin `sphx_glr_examples_geo_modeling_01_POC_generate-model.py`. As we want to have the topography also in the SHEMAT-Suite model later on, we will create a mask of the model topography, called\n`topo_mask`\n\n"
      ]
    },
    {
      "cell_type": "code",
      "execution_count": null,
      "metadata": {
        "collapsed": false
      },
      "outputs": [],
      "source": [
        "model_path = '../../models/2021-06-04_POC_base_model'\ngeo_model = gp.load_model('POC_PCT_model',\n                         path=model_path, recompile=False)\ntopo = geo_model._grid.topography.values.shape\ntopo_mask = geo_model._grid.regular_grid.mask_topo\ndtm = np.load(model_path+'/POC_PCT_model_topography.npy')"
      ]
    },
    {
      "cell_type": "markdown",
      "metadata": {},
      "source": [
        "## Load the MC-lithologies\nNext, we load the lithology blocks created by the MC example and mask them by the topography\n\n"
      ]
    },
    {
      "cell_type": "code",
      "execution_count": null,
      "metadata": {
        "collapsed": false
      },
      "outputs": [],
      "source": [
        "lith_blocks = np.load('../../data/outputs/MCexample_10realizations.npy')\n\nlith_blocks_topo = np.array([])\nfor i in lith_blocks:\n    lith_blocks_topo = np.append(lith_blocks_topo, shemsuite.topomask(geo_model, i))\nlith_blocks_topo = lith_blocks_topo.reshape(len(lith_blocks), -1)"
      ]
    },
    {
      "cell_type": "markdown",
      "metadata": {},
      "source": [
        "The model topography is not only important for the geological model, i.e. cutting geology with topography to produce a geological map, but is also vital for later on heat transport simulations.\nEspecially if a simulation should consider advective/convective heat transport, as these can be driven by the topography. Similarly, surface temperature correlates with altitute. \nHence, knowing topography is important, when we want to have a realistic top boundary condition for temperature in a model which includes topography. Usually, surface temperature is available from \nmeteorologic services. If, however, that is not the case, surface temperature as a function of altitude can be estimated from an average lapse rate $L$ (0.0065 K/m) and knowledge of temperature at \nsea level. \n\n"
      ]
    },
    {
      "cell_type": "code",
      "execution_count": null,
      "metadata": {
        "collapsed": false
      },
      "outputs": [],
      "source": [
        "# calculate surface temperatures\nsea_temp = 288 # in Kelvin\nL = 0.0065 # in Kelvin per metre\nsurf_temp = (sea_temp - L * dtm[:,:,2]) - 273.15\n\n# create figure\nfig, axs = plt.subplots(1,2, figsize=[15,4], sharey=True)\n\nm = axs[0].contourf(dtm[:,:,0], dtm[:,:,1], dtm[:,:,2],20, cmap='gist_earth', zorder=0)\naxs[0].contour(dtm[:,:,0], dtm[:,:,1], dtm[:,:,2],10, colors='gray', zorder=1)\n\ns = axs[1].contourf(dtm[:,:,0], dtm[:,:,1], surf_temp,20, cmap='gist_heat', zorder=0)\naxs[1].contour(dtm[:,:,0], dtm[:,:,1], dtm[:,:,2],10, colors='gray', zorder=1)\nfig.colorbar(m, ax=axs[0], label='meter')\nfig.colorbar(s, ax=axs[1], label='\u00b0C')\naxs[0].set_title('Topography')\naxs[1].set_title('Surface temperature')\naxs[0].set_ylabel('Y [m]')\naxs[0].set_xlabel('X [m]')\naxs[1].set_xlabel('X [m]')\n\n\nfig.tight_layout()"
      ]
    },
    {
      "cell_type": "markdown",
      "metadata": {},
      "source": [
        "Now we prepared the lithologies, which are necessary for the `# uindex` field in a SHEMA-Suite input file, we can prepare the other parameters. Of which some are necessary, like the model\ndimensions, and some are optional, like an array for the hydraulic head boundary condition, or observed data.\n\n"
      ]
    },
    {
      "cell_type": "code",
      "execution_count": null,
      "metadata": {
        "collapsed": false
      },
      "outputs": [],
      "source": [
        "xmin, xmax, ymin, ymax, zmin, zmax = geo_model.grid.regular_grid.extent\ntemp_data = '../../data/SHEMAT-Suite/all_boreholes_as_shemat_data.csv'"
      ]
    },
    {
      "cell_type": "markdown",
      "metadata": {},
      "source": [
        "## Set up the units for the SHEMAT-Suite model\nOne core element of a SHEMAT-Suite Input file is the `# units` table. This table comprises the petrophysical parameters of the lithological units whose geometry is stored in the `# uindex` field.\nThe following code shows an example of how set up the `# units` table as a dataframe to be then stored in a SHEMAT-Suite input file. \n\n"
      ]
    },
    {
      "cell_type": "code",
      "execution_count": null,
      "metadata": {
        "collapsed": false
      },
      "outputs": [],
      "source": [
        "# Load existing units of the geological model:\nunits = geo_model.surfaces.df[['surface', 'id']]\nunits"
      ]
    },
    {
      "cell_type": "markdown",
      "metadata": {},
      "source": [
        "Now we create a dictionary with values for important parameters of each of the 12 units:\nAnd join it with the existing units dataframe.\n\n"
      ]
    },
    {
      "cell_type": "code",
      "execution_count": null,
      "metadata": {
        "collapsed": false
      },
      "outputs": [],
      "source": [
        "params = {'por': np.array([1e-10, 1e-10, 1e-10, 1e-10, 1e-10, 0.1, 0.05, 0.05, 0.01, 0.1, 0.05, 0.01]).T,\n         'perm': np.array([1e-16, 1e-16, 1e-16, 1e-16, 1e-16, 1.0e-14, 1.0e-14, 1.0e-15, 1.0e-17, 1.0e-14, 1.0e-15, 1.0e-16]),\n         'lz':   np.array([2.5, 2.5, 2.5, 2.5, 2.5, 2.3, 1.93, 2.9, 4.64, 2.03, 3.21, 3.1])}\n\nunits = units.join(pd.DataFrame(params, index=units.index))"
      ]
    },
    {
      "cell_type": "markdown",
      "metadata": {},
      "source": [
        "So now, the `units` table looks like this:\n\n"
      ]
    },
    {
      "cell_type": "code",
      "execution_count": null,
      "metadata": {
        "collapsed": false
      },
      "outputs": [],
      "source": [
        "units"
      ]
    },
    {
      "cell_type": "markdown",
      "metadata": {},
      "source": [
        "It is still missing the air component though. We have to add this, because the cells above the topography are\nassigned to a unit representing the air. For mimicking the long-wavelength radiation outward from the ground, we assign\na high thermal conductivity to the air. If we were to assign a realistic low thermal conductivity, it would work as an insulator.\n\n"
      ]
    },
    {
      "cell_type": "code",
      "execution_count": null,
      "metadata": {
        "collapsed": false
      },
      "outputs": [],
      "source": [
        "air = {'surface': 'air',\n       'id': units.shape[0]+1,\n      'por': 1e-10,\n      'perm': 1e-22,\n      'lz': 100}\nunits = units.append(air, ignore_index=True)"
      ]
    },
    {
      "cell_type": "markdown",
      "metadata": {},
      "source": [
        "## Export to SHEMAT-Suite\nWe are now all set for combining the lithology arrays, the `# units` table, temperature data from boreholes\ninto a SHEMAT-Suite input file. For this, we use the method `export_shemat_suite_input_file` in \nOpenWF.shemat_preprocessing.\n\n"
      ]
    },
    {
      "cell_type": "code",
      "execution_count": null,
      "metadata": {
        "collapsed": false
      },
      "outputs": [],
      "source": [
        "shemade = \"\"\nfor c in range(len(lith_blocks_topo)):\n    model = lith_blocks_topo[c,:]\n    model_name = f\"POC_MC_{c}\"\n    shemsuite.export_shemat_suite_input_file(geo_model, lithology_block=model, units=units,  \n                                   data_file=temp_data,\n                                   path='../../models/SHEMAT-Suite_input/',\n                                  filename=model_name)\n    shemade += model_name + \" \\n\"\nwith open(\"../../models/SHEMAT-Suite_input/shemade.job\", 'w') as jobfile:\n    jobfile.write(shemade)"
      ]
    }
  ],
  "metadata": {
    "kernelspec": {
      "display_name": "Python 3",
      "language": "python",
      "name": "python3"
    },
    "language_info": {
      "codemirror_mode": {
        "name": "ipython",
        "version": 3
      },
      "file_extension": ".py",
      "mimetype": "text/x-python",
      "name": "python",
      "nbconvert_exporter": "python",
      "pygments_lexer": "ipython3",
      "version": "3.8.8"
    }
  },
  "nbformat": 4,
  "nbformat_minor": 0
}